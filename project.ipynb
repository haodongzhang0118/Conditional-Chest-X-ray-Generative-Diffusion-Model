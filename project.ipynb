{
 "cells": [
  {
   "cell_type": "code",
   "execution_count": 1,
   "metadata": {
    "id": "aYFpornCmZzt",
    "scrolled": false
   },
   "outputs": [
    {
     "name": "stdout",
     "output_type": "stream",
     "text": [
      "Requirement already satisfied: torch in c:\\python38\\lib\\site-packages (2.1.1)\n",
      "Requirement already satisfied: jinja2 in c:\\python38\\lib\\site-packages (from torch) (3.1.2)\n",
      "Requirement already satisfied: networkx in c:\\python38\\lib\\site-packages (from torch) (2.8.8)\n",
      "Requirement already satisfied: fsspec in c:\\python38\\lib\\site-packages (from torch) (2023.10.0)\n",
      "Requirement already satisfied: filelock in c:\\python38\\lib\\site-packages (from torch) (3.13.1)\n",
      "Requirement already satisfied: typing-extensions in c:\\python38\\lib\\site-packages (from torch) (4.8.0)\n",
      "Requirement already satisfied: sympy in c:\\python38\\lib\\site-packages (from torch) (1.12)\n",
      "Requirement already satisfied: MarkupSafe>=2.0 in c:\\python38\\lib\\site-packages (from jinja2->torch) (2.1.1)\n",
      "Requirement already satisfied: mpmath>=0.19 in c:\\python38\\lib\\site-packages (from sympy->torch) (1.3.0)\n"
     ]
    },
    {
     "name": "stderr",
     "output_type": "stream",
     "text": [
      "\n",
      "[notice] A new release of pip is available: 23.0 -> 23.3.1\n",
      "[notice] To update, run: C:\\Python38\\python.exe -m pip install --upgrade pip\n"
     ]
    },
    {
     "name": "stdout",
     "output_type": "stream",
     "text": [
      "Collecting torchvision\n",
      "  Downloading torchvision-0.16.1-cp38-cp38-win_amd64.whl (1.1 MB)\n",
      "     ---------------------------------------- 0.0/1.1 MB ? eta -:--:--\n",
      "     --------------- ------------------------ 0.4/1.1 MB 13.5 MB/s eta 0:00:01\n",
      "     --------------- ------------------------ 0.4/1.1 MB 13.5 MB/s eta 0:00:01\n",
      "     --------------- ------------------------ 0.4/1.1 MB 13.5 MB/s eta 0:00:01\n",
      "     --------------- ------------------------ 0.4/1.1 MB 13.5 MB/s eta 0:00:01\n",
      "     --------------- ------------------------ 0.4/1.1 MB 13.5 MB/s eta 0:00:01\n",
      "     --------------- ------------------------ 0.4/1.1 MB 13.5 MB/s eta 0:00:01\n",
      "     -------------------- ------------------- 0.6/1.1 MB 1.7 MB/s eta 0:00:01\n",
      "     ---------------------------------------- 1.1/1.1 MB 3.0 MB/s eta 0:00:00\n",
      "Requirement already satisfied: requests in c:\\python38\\lib\\site-packages (from torchvision) (2.31.0)\n",
      "Requirement already satisfied: pillow!=8.3.*,>=5.3.0 in c:\\python38\\lib\\site-packages (from torchvision) (9.3.0)\n",
      "Requirement already satisfied: numpy in c:\\python38\\lib\\site-packages (from torchvision) (1.23.5)\n",
      "Requirement already satisfied: torch==2.1.1 in c:\\python38\\lib\\site-packages (from torchvision) (2.1.1)\n",
      "Requirement already satisfied: fsspec in c:\\python38\\lib\\site-packages (from torch==2.1.1->torchvision) (2023.10.0)\n",
      "Requirement already satisfied: networkx in c:\\python38\\lib\\site-packages (from torch==2.1.1->torchvision) (2.8.8)\n",
      "Requirement already satisfied: sympy in c:\\python38\\lib\\site-packages (from torch==2.1.1->torchvision) (1.12)\n",
      "Requirement already satisfied: jinja2 in c:\\python38\\lib\\site-packages (from torch==2.1.1->torchvision) (3.1.2)\n",
      "Requirement already satisfied: typing-extensions in c:\\python38\\lib\\site-packages (from torch==2.1.1->torchvision) (4.8.0)\n",
      "Requirement already satisfied: filelock in c:\\python38\\lib\\site-packages (from torch==2.1.1->torchvision) (3.13.1)\n",
      "Requirement already satisfied: urllib3<3,>=1.21.1 in c:\\python38\\lib\\site-packages (from requests->torchvision) (2.1.0)\n",
      "Requirement already satisfied: certifi>=2017.4.17 in c:\\python38\\lib\\site-packages (from requests->torchvision) (2023.11.17)\n",
      "Requirement already satisfied: idna<4,>=2.5 in c:\\python38\\lib\\site-packages (from requests->torchvision) (3.4)\n",
      "Requirement already satisfied: charset-normalizer<4,>=2 in c:\\python38\\lib\\site-packages (from requests->torchvision) (3.3.2)\n",
      "Requirement already satisfied: MarkupSafe>=2.0 in c:\\python38\\lib\\site-packages (from jinja2->torch==2.1.1->torchvision) (2.1.1)\n",
      "Requirement already satisfied: mpmath>=0.19 in c:\\python38\\lib\\site-packages (from sympy->torch==2.1.1->torchvision) (1.3.0)\n",
      "Installing collected packages: torchvision\n",
      "Successfully installed torchvision-0.16.1\n"
     ]
    },
    {
     "name": "stderr",
     "output_type": "stream",
     "text": [
      "\n",
      "[notice] A new release of pip is available: 23.0 -> 23.3.1\n",
      "[notice] To update, run: C:\\Python38\\python.exe -m pip install --upgrade pip\n"
     ]
    },
    {
     "name": "stdout",
     "output_type": "stream",
     "text": [
      "Requirement already satisfied: diffusers in c:\\python38\\lib\\site-packages (0.23.1)\n",
      "Requirement already satisfied: safetensors>=0.3.1 in c:\\python38\\lib\\site-packages (from diffusers) (0.4.0)\n",
      "Requirement already satisfied: numpy in c:\\python38\\lib\\site-packages (from diffusers) (1.23.5)\n",
      "Requirement already satisfied: filelock in c:\\python38\\lib\\site-packages (from diffusers) (3.13.1)\n",
      "Requirement already satisfied: regex!=2019.12.17 in c:\\python38\\lib\\site-packages (from diffusers) (2023.10.3)\n",
      "Requirement already satisfied: huggingface-hub>=0.13.2 in c:\\python38\\lib\\site-packages (from diffusers) (0.19.4)\n",
      "Requirement already satisfied: Pillow in c:\\python38\\lib\\site-packages (from diffusers) (9.3.0)\n",
      "Requirement already satisfied: requests in c:\\python38\\lib\\site-packages (from diffusers) (2.31.0)\n",
      "Requirement already satisfied: importlib-metadata in c:\\python38\\lib\\site-packages (from diffusers) (5.1.0)\n",
      "Requirement already satisfied: typing-extensions>=3.7.4.3 in c:\\python38\\lib\\site-packages (from huggingface-hub>=0.13.2->diffusers) (4.8.0)\n",
      "Requirement already satisfied: fsspec>=2023.5.0 in c:\\python38\\lib\\site-packages (from huggingface-hub>=0.13.2->diffusers) (2023.10.0)\n",
      "Requirement already satisfied: pyyaml>=5.1 in c:\\python38\\lib\\site-packages (from huggingface-hub>=0.13.2->diffusers) (6.0.1)\n",
      "Requirement already satisfied: packaging>=20.9 in c:\\python38\\lib\\site-packages (from huggingface-hub>=0.13.2->diffusers) (21.3)\n",
      "Requirement already satisfied: tqdm>=4.42.1 in c:\\python38\\lib\\site-packages (from huggingface-hub>=0.13.2->diffusers) (4.64.1)\n",
      "Requirement already satisfied: zipp>=0.5 in c:\\python38\\lib\\site-packages (from importlib-metadata->diffusers) (3.11.0)\n",
      "Requirement already satisfied: charset-normalizer<4,>=2 in c:\\python38\\lib\\site-packages (from requests->diffusers) (3.3.2)\n",
      "Requirement already satisfied: urllib3<3,>=1.21.1 in c:\\python38\\lib\\site-packages (from requests->diffusers) (2.1.0)\n",
      "Requirement already satisfied: certifi>=2017.4.17 in c:\\python38\\lib\\site-packages (from requests->diffusers) (2023.11.17)\n",
      "Requirement already satisfied: idna<4,>=2.5 in c:\\python38\\lib\\site-packages (from requests->diffusers) (3.4)\n",
      "Requirement already satisfied: pyparsing!=3.0.5,>=2.0.2 in c:\\python38\\lib\\site-packages (from packaging>=20.9->huggingface-hub>=0.13.2->diffusers) (3.0.9)\n",
      "Requirement already satisfied: colorama in c:\\python38\\lib\\site-packages (from tqdm>=4.42.1->huggingface-hub>=0.13.2->diffusers) (0.4.6)\n"
     ]
    },
    {
     "name": "stderr",
     "output_type": "stream",
     "text": [
      "\n",
      "[notice] A new release of pip is available: 23.0 -> 23.3.1\n",
      "[notice] To update, run: C:\\Python38\\python.exe -m pip install --upgrade pip\n"
     ]
    },
    {
     "name": "stdout",
     "output_type": "stream",
     "text": [
      "Requirement already satisfied: tqdm in c:\\python38\\lib\\site-packages (4.64.1)\n",
      "Requirement already satisfied: colorama in c:\\python38\\lib\\site-packages (from tqdm) (0.4.6)\n"
     ]
    },
    {
     "name": "stderr",
     "output_type": "stream",
     "text": [
      "\n",
      "[notice] A new release of pip is available: 23.0 -> 23.3.1\n",
      "[notice] To update, run: C:\\Python38\\python.exe -m pip install --upgrade pip\n"
     ]
    },
    {
     "name": "stdout",
     "output_type": "stream",
     "text": [
      "Collecting einops\n",
      "  Downloading einops-0.7.0-py3-none-any.whl (44 kB)\n",
      "     ---------------------------------------- 0.0/44.6 kB ? eta -:--:--\n",
      "     ---------------------------------------- 44.6/44.6 kB 2.1 MB/s eta 0:00:00\n",
      "Installing collected packages: einops\n",
      "Successfully installed einops-0.7.0\n"
     ]
    },
    {
     "name": "stderr",
     "output_type": "stream",
     "text": [
      "\n",
      "[notice] A new release of pip is available: 23.0 -> 23.3.1\n",
      "[notice] To update, run: C:\\Python38\\python.exe -m pip install --upgrade pip\n"
     ]
    },
    {
     "name": "stdout",
     "output_type": "stream",
     "text": [
      "Collecting timm\n",
      "  Downloading timm-0.9.12-py3-none-any.whl (2.2 MB)\n",
      "     ---------------------------------------- 0.0/2.2 MB ? eta -:--:--\n",
      "     -------- ------------------------------- 0.5/2.2 MB 9.4 MB/s eta 0:00:01\n",
      "     ------------------- -------------------- 1.1/2.2 MB 11.3 MB/s eta 0:00:01\n",
      "     ------------------------------- -------- 1.7/2.2 MB 12.2 MB/s eta 0:00:01\n",
      "     ---------------------------------------- 2.2/2.2 MB 11.8 MB/s eta 0:00:00\n",
      "Requirement already satisfied: torch>=1.7 in c:\\python38\\lib\\site-packages (from timm) (2.1.1)\n",
      "Requirement already satisfied: pyyaml in c:\\python38\\lib\\site-packages (from timm) (6.0.1)\n",
      "Requirement already satisfied: safetensors in c:\\python38\\lib\\site-packages (from timm) (0.4.0)\n",
      "Requirement already satisfied: huggingface-hub in c:\\python38\\lib\\site-packages (from timm) (0.19.4)\n",
      "Requirement already satisfied: torchvision in c:\\python38\\lib\\site-packages (from timm) (0.16.1)\n",
      "Requirement already satisfied: networkx in c:\\python38\\lib\\site-packages (from torch>=1.7->timm) (2.8.8)\n",
      "Requirement already satisfied: fsspec in c:\\python38\\lib\\site-packages (from torch>=1.7->timm) (2023.10.0)\n",
      "Requirement already satisfied: sympy in c:\\python38\\lib\\site-packages (from torch>=1.7->timm) (1.12)\n",
      "Requirement already satisfied: filelock in c:\\python38\\lib\\site-packages (from torch>=1.7->timm) (3.13.1)\n",
      "Requirement already satisfied: typing-extensions in c:\\python38\\lib\\site-packages (from torch>=1.7->timm) (4.8.0)\n",
      "Requirement already satisfied: jinja2 in c:\\python38\\lib\\site-packages (from torch>=1.7->timm) (3.1.2)\n",
      "Requirement already satisfied: tqdm>=4.42.1 in c:\\python38\\lib\\site-packages (from huggingface-hub->timm) (4.64.1)\n",
      "Requirement already satisfied: packaging>=20.9 in c:\\python38\\lib\\site-packages (from huggingface-hub->timm) (21.3)\n",
      "Requirement already satisfied: requests in c:\\python38\\lib\\site-packages (from huggingface-hub->timm) (2.31.0)\n",
      "Requirement already satisfied: pillow!=8.3.*,>=5.3.0 in c:\\python38\\lib\\site-packages (from torchvision->timm) (9.3.0)\n",
      "Requirement already satisfied: numpy in c:\\python38\\lib\\site-packages (from torchvision->timm) (1.23.5)\n",
      "Requirement already satisfied: pyparsing!=3.0.5,>=2.0.2 in c:\\python38\\lib\\site-packages (from packaging>=20.9->huggingface-hub->timm) (3.0.9)\n",
      "Requirement already satisfied: colorama in c:\\python38\\lib\\site-packages (from tqdm>=4.42.1->huggingface-hub->timm) (0.4.6)\n",
      "Requirement already satisfied: MarkupSafe>=2.0 in c:\\python38\\lib\\site-packages (from jinja2->torch>=1.7->timm) (2.1.1)\n",
      "Requirement already satisfied: urllib3<3,>=1.21.1 in c:\\python38\\lib\\site-packages (from requests->huggingface-hub->timm) (2.1.0)\n",
      "Requirement already satisfied: charset-normalizer<4,>=2 in c:\\python38\\lib\\site-packages (from requests->huggingface-hub->timm) (3.3.2)\n",
      "Requirement already satisfied: idna<4,>=2.5 in c:\\python38\\lib\\site-packages (from requests->huggingface-hub->timm) (3.4)\n",
      "Requirement already satisfied: certifi>=2017.4.17 in c:\\python38\\lib\\site-packages (from requests->huggingface-hub->timm) (2023.11.17)\n",
      "Requirement already satisfied: mpmath>=0.19 in c:\\python38\\lib\\site-packages (from sympy->torch>=1.7->timm) (1.3.0)\n",
      "Installing collected packages: timm\n",
      "Successfully installed timm-0.9.12\n"
     ]
    },
    {
     "name": "stderr",
     "output_type": "stream",
     "text": [
      "\n",
      "[notice] A new release of pip is available: 23.0 -> 23.3.1\n",
      "[notice] To update, run: C:\\Python38\\python.exe -m pip install --upgrade pip\n"
     ]
    }
   ],
   "source": [
    "!pip install torch\n",
    "!pip install torchvision\n",
    "!pip install diffusers\n",
    "!pip install tqdm\n",
    "!pip install einops\n",
    "!pip install timm"
   ]
  },
  {
   "cell_type": "code",
   "execution_count": 2,
   "metadata": {
    "colab": {
     "base_uri": "https://localhost:8080/",
     "height": 500
    },
    "executionInfo": {
     "elapsed": 291,
     "status": "error",
     "timestamp": 1702025229106,
     "user": {
      "displayName": "Haodong Zhang",
      "userId": "09172024068023463485"
     },
     "user_tz": 480
    },
    "id": "WGXfH2Jel49x",
    "outputId": "63eb4425-f690-44cf-ec4a-4d27870a1716"
   },
   "outputs": [
    {
     "name": "stderr",
     "output_type": "stream",
     "text": [
      "c:\\Users\\11429\\anaconda3\\envs\\transformers\\lib\\site-packages\\tqdm\\auto.py:21: TqdmWarning: IProgress not found. Please update jupyter and ipywidgets. See https://ipywidgets.readthedocs.io/en/stable/user_install.html\n",
      "  from .autonotebook import tqdm as notebook_tqdm\n"
     ]
    }
   ],
   "source": [
    "import torch\n",
    "torch.backends.cuda.matmul.allow_tf32 = True\n",
    "torch.backends.cudnn.allow_tf32 = True\n",
    "from diffusion import create_diffusion\n",
    "from diffusers.models import AutoencoderKL\n",
    "from download import find_model\n",
    "from FGFormer.FGFormer import FGFormers\n",
    "import random"
   ]
  },
  {
   "cell_type": "code",
   "execution_count": 9,
   "metadata": {
    "id": "LlWMkK9ZmCkb"
   },
   "outputs": [
    {
     "name": "stdout",
     "output_type": "stream",
     "text": [
      "cpu\n"
     ]
    }
   ],
   "source": [
    "torch.manual_seed(0)\n",
    "torch.set_grad_enabled(False)\n",
    "device = \"cuda\" if torch.cuda.is_available() else \"cpu\"\n",
    "print(device)"
   ]
  },
  {
   "cell_type": "code",
   "execution_count": 5,
   "metadata": {
    "id": "-i3SXT0UnbsW"
   },
   "outputs": [
    {
     "name": "stderr",
     "output_type": "stream",
     "text": [
      "Cannot initialize model with low cpu memory usage because `accelerate` was not found in the environment. Defaulting to `low_cpu_mem_usage=False`. It is strongly recommended to install `accelerate` for faster and less memory-intense model loading. You can do so with: \n",
      "```\n",
      "pip install accelerate\n",
      "```\n",
      ".\n",
      "config.json: 100%|██████████| 547/547 [00:00<?, ?B/s] \n",
      "c:\\Users\\11429\\anaconda3\\envs\\transformers\\lib\\site-packages\\huggingface_hub\\file_download.py:147: UserWarning: `huggingface_hub` cache-system uses symlinks by default to efficiently store duplicated files but your machine does not support them in C:\\Users\\11429\\.cache\\huggingface\\hub. Caching files will still work but in a degraded version that might require more space on your disk. This warning can be disabled by setting the `HF_HUB_DISABLE_SYMLINKS_WARNING` environment variable. For more details, see https://huggingface.co/docs/huggingface_hub/how-to-cache#limitations.\n",
      "To support symlinks on Windows, you either need to activate Developer Mode or to run Python as an administrator. In order to see activate developer mode, see this article: https://docs.microsoft.com/en-us/windows/apps/get-started/enable-your-device-for-development\n",
      "  warnings.warn(message)\n",
      "diffusion_pytorch_model.safetensors: 100%|██████████| 335M/335M [00:16<00:00, 20.4MB/s] \n"
     ]
    }
   ],
   "source": [
    "model = FGFormers[\"FGFormer-B/4\"](\n",
    "        input_size=32,\n",
    "        num_classes=14\n",
    ").to(device)\n",
    "ckpt_path = \"0090000.pt\"\n",
    "state_dict = find_model(ckpt_path)\n",
    "model.load_state_dict(state_dict)\n",
    "model.eval()\n",
    "diffusion = create_diffusion(str(1000))\n",
    "vae = AutoencoderKL.from_pretrained(f\"stabilityai/sd-vae-ft-mse\").to(device)"
   ]
  },
  {
   "cell_type": "code",
   "execution_count": 6,
   "metadata": {
    "id": "cOkycD-NoJpn"
   },
   "outputs": [],
   "source": [
    "class_labels = [random.randint(0, 14 - 1) for _ in range(8)]\n",
    "n = len(class_labels)\n",
    "z = torch.randn(n, 4, 32, 32, device=device)\n",
    "y = torch.tensor(class_labels, device=device)"
   ]
  },
  {
   "cell_type": "code",
   "execution_count": 7,
   "metadata": {
    "id": "7KUGVRBwoVnE"
   },
   "outputs": [],
   "source": [
    "z = torch.cat([z, z], 0)\n",
    "y_null = torch.tensor([14] * n, device=device)\n",
    "y = torch.cat([y, y_null], 0)\n",
    "model_kwargs = dict(y=y, cfg_scale=4.0)"
   ]
  },
  {
   "cell_type": "code",
   "execution_count": 8,
   "metadata": {
    "id": "TUizp5aRogwD"
   },
   "outputs": [
    {
     "name": "stderr",
     "output_type": "stream",
     "text": [
      "  5%|▌         | 52/1000 [00:40<12:21,  1.28it/s]\n"
     ]
    },
    {
     "ename": "KeyboardInterrupt",
     "evalue": "",
     "output_type": "error",
     "traceback": [
      "\u001b[1;31m---------------------------------------------------------------------------\u001b[0m",
      "\u001b[1;31mKeyboardInterrupt\u001b[0m                         Traceback (most recent call last)",
      "\u001b[1;32mc:\\Users\\11429\\Desktop\\Conditional-Chest-X-ray-Generative-Diffusion-Model-label\\project.ipynb Cell 7\u001b[0m line \u001b[0;36m1\n\u001b[1;32m----> <a href='vscode-notebook-cell:/c%3A/Users/11429/Desktop/Conditional-Chest-X-ray-Generative-Diffusion-Model-label/project.ipynb#W6sZmlsZQ%3D%3D?line=0'>1</a>\u001b[0m samples \u001b[39m=\u001b[39m diffusion\u001b[39m.\u001b[39;49mp_sample_loop(\n\u001b[0;32m      <a href='vscode-notebook-cell:/c%3A/Users/11429/Desktop/Conditional-Chest-X-ray-Generative-Diffusion-Model-label/project.ipynb#W6sZmlsZQ%3D%3D?line=1'>2</a>\u001b[0m         model\u001b[39m.\u001b[39;49mforward_with_cfg, z\u001b[39m.\u001b[39;49mshape, z, clip_denoised\u001b[39m=\u001b[39;49m\u001b[39mFalse\u001b[39;49;00m, model_kwargs\u001b[39m=\u001b[39;49mmodel_kwargs, progress\u001b[39m=\u001b[39;49m\u001b[39mTrue\u001b[39;49;00m, device\u001b[39m=\u001b[39;49mdevice\n\u001b[0;32m      <a href='vscode-notebook-cell:/c%3A/Users/11429/Desktop/Conditional-Chest-X-ray-Generative-Diffusion-Model-label/project.ipynb#W6sZmlsZQ%3D%3D?line=2'>3</a>\u001b[0m     )\n\u001b[0;32m      <a href='vscode-notebook-cell:/c%3A/Users/11429/Desktop/Conditional-Chest-X-ray-Generative-Diffusion-Model-label/project.ipynb#W6sZmlsZQ%3D%3D?line=3'>4</a>\u001b[0m samples, _ \u001b[39m=\u001b[39m samples\u001b[39m.\u001b[39mchunk(\u001b[39m2\u001b[39m, dim\u001b[39m=\u001b[39m\u001b[39m0\u001b[39m)\n\u001b[0;32m      <a href='vscode-notebook-cell:/c%3A/Users/11429/Desktop/Conditional-Chest-X-ray-Generative-Diffusion-Model-label/project.ipynb#W6sZmlsZQ%3D%3D?line=4'>5</a>\u001b[0m samples \u001b[39m=\u001b[39m vae\u001b[39m.\u001b[39mdecode(samples \u001b[39m/\u001b[39m \u001b[39m0.18215\u001b[39m)\u001b[39m.\u001b[39msample\n",
      "File \u001b[1;32mc:\\Users\\11429\\Desktop\\Conditional-Chest-X-ray-Generative-Diffusion-Model-label\\diffusion\\gaussian_diffusion.py:455\u001b[0m, in \u001b[0;36mGaussianDiffusion.p_sample_loop\u001b[1;34m(self, model, shape, noise, clip_denoised, denoised_fn, cond_fn, model_kwargs, device, progress)\u001b[0m\n\u001b[0;32m    436\u001b[0m \u001b[39m\u001b[39m\u001b[39m\"\"\"\u001b[39;00m\n\u001b[0;32m    437\u001b[0m \u001b[39mGenerate samples from the model.\u001b[39;00m\n\u001b[0;32m    438\u001b[0m \u001b[39m:param model: the model module.\u001b[39;00m\n\u001b[1;32m   (...)\u001b[0m\n\u001b[0;32m    452\u001b[0m \u001b[39m:return: a non-differentiable batch of samples.\u001b[39;00m\n\u001b[0;32m    453\u001b[0m \u001b[39m\"\"\"\u001b[39;00m\n\u001b[0;32m    454\u001b[0m final \u001b[39m=\u001b[39m \u001b[39mNone\u001b[39;00m\n\u001b[1;32m--> 455\u001b[0m \u001b[39mfor\u001b[39;00m sample \u001b[39min\u001b[39;00m \u001b[39mself\u001b[39m\u001b[39m.\u001b[39mp_sample_loop_progressive(\n\u001b[0;32m    456\u001b[0m     model,\n\u001b[0;32m    457\u001b[0m     shape,\n\u001b[0;32m    458\u001b[0m     noise\u001b[39m=\u001b[39mnoise,\n\u001b[0;32m    459\u001b[0m     clip_denoised\u001b[39m=\u001b[39mclip_denoised,\n\u001b[0;32m    460\u001b[0m     denoised_fn\u001b[39m=\u001b[39mdenoised_fn,\n\u001b[0;32m    461\u001b[0m     cond_fn\u001b[39m=\u001b[39mcond_fn,\n\u001b[0;32m    462\u001b[0m     model_kwargs\u001b[39m=\u001b[39mmodel_kwargs,\n\u001b[0;32m    463\u001b[0m     device\u001b[39m=\u001b[39mdevice,\n\u001b[0;32m    464\u001b[0m     progress\u001b[39m=\u001b[39mprogress,\n\u001b[0;32m    465\u001b[0m ):\n\u001b[0;32m    466\u001b[0m     final \u001b[39m=\u001b[39m sample\n\u001b[0;32m    467\u001b[0m \u001b[39mreturn\u001b[39;00m final[\u001b[39m\"\u001b[39m\u001b[39msample\u001b[39m\u001b[39m\"\u001b[39m]\n",
      "File \u001b[1;32mc:\\Users\\11429\\Desktop\\Conditional-Chest-X-ray-Generative-Diffusion-Model-label\\diffusion\\gaussian_diffusion.py:506\u001b[0m, in \u001b[0;36mGaussianDiffusion.p_sample_loop_progressive\u001b[1;34m(self, model, shape, noise, clip_denoised, denoised_fn, cond_fn, model_kwargs, device, progress)\u001b[0m\n\u001b[0;32m    504\u001b[0m t \u001b[39m=\u001b[39m th\u001b[39m.\u001b[39mtensor([i] \u001b[39m*\u001b[39m shape[\u001b[39m0\u001b[39m], device\u001b[39m=\u001b[39mdevice)\n\u001b[0;32m    505\u001b[0m \u001b[39mwith\u001b[39;00m th\u001b[39m.\u001b[39mno_grad():\n\u001b[1;32m--> 506\u001b[0m     out \u001b[39m=\u001b[39m \u001b[39mself\u001b[39;49m\u001b[39m.\u001b[39;49mp_sample(\n\u001b[0;32m    507\u001b[0m         model,\n\u001b[0;32m    508\u001b[0m         img,\n\u001b[0;32m    509\u001b[0m         t,\n\u001b[0;32m    510\u001b[0m         clip_denoised\u001b[39m=\u001b[39;49mclip_denoised,\n\u001b[0;32m    511\u001b[0m         denoised_fn\u001b[39m=\u001b[39;49mdenoised_fn,\n\u001b[0;32m    512\u001b[0m         cond_fn\u001b[39m=\u001b[39;49mcond_fn,\n\u001b[0;32m    513\u001b[0m         model_kwargs\u001b[39m=\u001b[39;49mmodel_kwargs,\n\u001b[0;32m    514\u001b[0m     )\n\u001b[0;32m    515\u001b[0m     \u001b[39myield\u001b[39;00m out\n\u001b[0;32m    516\u001b[0m     img \u001b[39m=\u001b[39m out[\u001b[39m\"\u001b[39m\u001b[39msample\u001b[39m\u001b[39m\"\u001b[39m]\n",
      "File \u001b[1;32mc:\\Users\\11429\\Desktop\\Conditional-Chest-X-ray-Generative-Diffusion-Model-label\\diffusion\\gaussian_diffusion.py:407\u001b[0m, in \u001b[0;36mGaussianDiffusion.p_sample\u001b[1;34m(self, model, x, t, clip_denoised, denoised_fn, cond_fn, model_kwargs)\u001b[0m\n\u001b[0;32m    381\u001b[0m \u001b[39mdef\u001b[39;00m \u001b[39mp_sample\u001b[39m(\n\u001b[0;32m    382\u001b[0m     \u001b[39mself\u001b[39m,\n\u001b[0;32m    383\u001b[0m     model,\n\u001b[1;32m   (...)\u001b[0m\n\u001b[0;32m    389\u001b[0m     model_kwargs\u001b[39m=\u001b[39m\u001b[39mNone\u001b[39;00m,\n\u001b[0;32m    390\u001b[0m ):\n\u001b[0;32m    391\u001b[0m \u001b[39m    \u001b[39m\u001b[39m\"\"\"\u001b[39;00m\n\u001b[0;32m    392\u001b[0m \u001b[39m    Sample x_{t-1} from the model at the given timestep.\u001b[39;00m\n\u001b[0;32m    393\u001b[0m \u001b[39m    :param model: the model to sample from.\u001b[39;00m\n\u001b[1;32m   (...)\u001b[0m\n\u001b[0;32m    405\u001b[0m \u001b[39m             - 'pred_xstart': a prediction of x_0.\u001b[39;00m\n\u001b[0;32m    406\u001b[0m \u001b[39m    \"\"\"\u001b[39;00m\n\u001b[1;32m--> 407\u001b[0m     out \u001b[39m=\u001b[39m \u001b[39mself\u001b[39;49m\u001b[39m.\u001b[39;49mp_mean_variance(\n\u001b[0;32m    408\u001b[0m         model,\n\u001b[0;32m    409\u001b[0m         x,\n\u001b[0;32m    410\u001b[0m         t,\n\u001b[0;32m    411\u001b[0m         clip_denoised\u001b[39m=\u001b[39;49mclip_denoised,\n\u001b[0;32m    412\u001b[0m         denoised_fn\u001b[39m=\u001b[39;49mdenoised_fn,\n\u001b[0;32m    413\u001b[0m         model_kwargs\u001b[39m=\u001b[39;49mmodel_kwargs,\n\u001b[0;32m    414\u001b[0m     )\n\u001b[0;32m    415\u001b[0m     noise \u001b[39m=\u001b[39m th\u001b[39m.\u001b[39mrandn_like(x)\n\u001b[0;32m    416\u001b[0m     nonzero_mask \u001b[39m=\u001b[39m (\n\u001b[0;32m    417\u001b[0m         (t \u001b[39m!=\u001b[39m \u001b[39m0\u001b[39m)\u001b[39m.\u001b[39mfloat()\u001b[39m.\u001b[39mview(\u001b[39m-\u001b[39m\u001b[39m1\u001b[39m, \u001b[39m*\u001b[39m([\u001b[39m1\u001b[39m] \u001b[39m*\u001b[39m (\u001b[39mlen\u001b[39m(x\u001b[39m.\u001b[39mshape) \u001b[39m-\u001b[39m \u001b[39m1\u001b[39m)))\n\u001b[0;32m    418\u001b[0m     )  \u001b[39m# no noise when t == 0\u001b[39;00m\n",
      "File \u001b[1;32mc:\\Users\\11429\\Desktop\\Conditional-Chest-X-ray-Generative-Diffusion-Model-label\\diffusion\\respace.py:92\u001b[0m, in \u001b[0;36mSpacedDiffusion.p_mean_variance\u001b[1;34m(self, model, *args, **kwargs)\u001b[0m\n\u001b[0;32m     89\u001b[0m \u001b[39mdef\u001b[39;00m \u001b[39mp_mean_variance\u001b[39m(\n\u001b[0;32m     90\u001b[0m     \u001b[39mself\u001b[39m, model, \u001b[39m*\u001b[39margs, \u001b[39m*\u001b[39m\u001b[39m*\u001b[39mkwargs\n\u001b[0;32m     91\u001b[0m ):  \u001b[39m# pylint: disable=signature-differs\u001b[39;00m\n\u001b[1;32m---> 92\u001b[0m     \u001b[39mreturn\u001b[39;00m \u001b[39msuper\u001b[39m()\u001b[39m.\u001b[39mp_mean_variance(\u001b[39mself\u001b[39m\u001b[39m.\u001b[39m_wrap_model(model), \u001b[39m*\u001b[39margs, \u001b[39m*\u001b[39m\u001b[39m*\u001b[39mkwargs)\n",
      "File \u001b[1;32mc:\\Users\\11429\\Desktop\\Conditional-Chest-X-ray-Generative-Diffusion-Model-label\\diffusion\\gaussian_diffusion.py:283\u001b[0m, in \u001b[0;36mGaussianDiffusion.p_mean_variance\u001b[1;34m(self, model, x, t, clip_denoised, denoised_fn, model_kwargs)\u001b[0m\n\u001b[0;32m    281\u001b[0m B, C \u001b[39m=\u001b[39m x\u001b[39m.\u001b[39mshape[:\u001b[39m2\u001b[39m]\n\u001b[0;32m    282\u001b[0m \u001b[39massert\u001b[39;00m t\u001b[39m.\u001b[39mshape \u001b[39m==\u001b[39m (B,)\n\u001b[1;32m--> 283\u001b[0m model_output \u001b[39m=\u001b[39m model(x, t, \u001b[39m*\u001b[39m\u001b[39m*\u001b[39mmodel_kwargs)\n\u001b[0;32m    285\u001b[0m \u001b[39mif\u001b[39;00m \u001b[39misinstance\u001b[39m(model_output, \u001b[39mtuple\u001b[39m):\n\u001b[0;32m    286\u001b[0m     model_output, extra \u001b[39m=\u001b[39m model_output\n",
      "File \u001b[1;32mc:\\Users\\11429\\Desktop\\Conditional-Chest-X-ray-Generative-Diffusion-Model-label\\diffusion\\respace.py:129\u001b[0m, in \u001b[0;36m_WrappedModel.__call__\u001b[1;34m(self, x, ts, **kwargs)\u001b[0m\n\u001b[0;32m    126\u001b[0m new_ts \u001b[39m=\u001b[39m map_tensor[ts]\n\u001b[0;32m    127\u001b[0m \u001b[39m# if self.rescale_timesteps:\u001b[39;00m\n\u001b[0;32m    128\u001b[0m \u001b[39m#     new_ts = new_ts.float() * (1000.0 / self.original_num_steps)\u001b[39;00m\n\u001b[1;32m--> 129\u001b[0m \u001b[39mreturn\u001b[39;00m \u001b[39mself\u001b[39m\u001b[39m.\u001b[39mmodel(x, new_ts, \u001b[39m*\u001b[39m\u001b[39m*\u001b[39mkwargs)\n",
      "File \u001b[1;32mc:\\Users\\11429\\Desktop\\Conditional-Chest-X-ray-Generative-Diffusion-Model-label\\FGFormer\\FGFormer.py:287\u001b[0m, in \u001b[0;36mFGFormer.forward_with_cfg\u001b[1;34m(self, x, t, y, cfg_scale)\u001b[0m\n\u001b[0;32m    285\u001b[0m half \u001b[39m=\u001b[39m x[: \u001b[39mlen\u001b[39m(x) \u001b[39m/\u001b[39m\u001b[39m/\u001b[39m \u001b[39m2\u001b[39m]\n\u001b[0;32m    286\u001b[0m combined \u001b[39m=\u001b[39m torch\u001b[39m.\u001b[39mcat([half, half], dim\u001b[39m=\u001b[39m\u001b[39m0\u001b[39m)\n\u001b[1;32m--> 287\u001b[0m model_out \u001b[39m=\u001b[39m \u001b[39mself\u001b[39;49m\u001b[39m.\u001b[39;49mforward(combined, t, y)\n\u001b[0;32m    288\u001b[0m \u001b[39m# For exact reproducibility reasons, we apply classifier-free guidance on only\u001b[39;00m\n\u001b[0;32m    289\u001b[0m \u001b[39m# three channels by default. The standard approach to cfg applies it to all channels.\u001b[39;00m\n\u001b[0;32m    290\u001b[0m \u001b[39m# This can be done by uncommenting the following line and commenting-out the line following that.\u001b[39;00m\n\u001b[0;32m    291\u001b[0m \u001b[39m# eps, rest = model_out[:, :self.in_channels], model_out[:, self.in_channels:]\u001b[39;00m\n\u001b[0;32m    292\u001b[0m eps, rest \u001b[39m=\u001b[39m model_out[:, :\u001b[39m3\u001b[39m], model_out[:, \u001b[39m3\u001b[39m:]\n",
      "File \u001b[1;32mc:\\Users\\11429\\Desktop\\Conditional-Chest-X-ray-Generative-Diffusion-Model-label\\FGFormer\\FGFormer.py:272\u001b[0m, in \u001b[0;36mFGFormer.forward\u001b[1;34m(self, x, t, y)\u001b[0m\n\u001b[0;32m    270\u001b[0m         x, stru \u001b[39m=\u001b[39m \u001b[39mself\u001b[39m\u001b[39m.\u001b[39mblocks[index](x \u001b[39m+\u001b[39m need[\u001b[39m0\u001b[39m], stru \u001b[39m+\u001b[39m need[\u001b[39m1\u001b[39m], c)\n\u001b[0;32m    271\u001b[0m     \u001b[39melse\u001b[39;00m:\n\u001b[1;32m--> 272\u001b[0m         x, stru \u001b[39m=\u001b[39m \u001b[39mself\u001b[39;49m\u001b[39m.\u001b[39;49mblocks[index](x, stru, c)\n\u001b[0;32m    274\u001b[0m x \u001b[39m=\u001b[39m \u001b[39mself\u001b[39m\u001b[39m.\u001b[39mfinal_layer_noise(x, c)\n\u001b[0;32m    276\u001b[0m x \u001b[39m=\u001b[39m window_reverse(x, \u001b[39mself\u001b[39m\u001b[39m.\u001b[39mwindow_size, H, W)\n",
      "File \u001b[1;32mc:\\Users\\11429\\anaconda3\\envs\\transformers\\lib\\site-packages\\torch\\nn\\modules\\module.py:1518\u001b[0m, in \u001b[0;36mModule._wrapped_call_impl\u001b[1;34m(self, *args, **kwargs)\u001b[0m\n\u001b[0;32m   1516\u001b[0m     \u001b[39mreturn\u001b[39;00m \u001b[39mself\u001b[39m\u001b[39m.\u001b[39m_compiled_call_impl(\u001b[39m*\u001b[39margs, \u001b[39m*\u001b[39m\u001b[39m*\u001b[39mkwargs)  \u001b[39m# type: ignore[misc]\u001b[39;00m\n\u001b[0;32m   1517\u001b[0m \u001b[39melse\u001b[39;00m:\n\u001b[1;32m-> 1518\u001b[0m     \u001b[39mreturn\u001b[39;00m \u001b[39mself\u001b[39m\u001b[39m.\u001b[39m_call_impl(\u001b[39m*\u001b[39margs, \u001b[39m*\u001b[39m\u001b[39m*\u001b[39mkwargs)\n",
      "File \u001b[1;32mc:\\Users\\11429\\anaconda3\\envs\\transformers\\lib\\site-packages\\torch\\nn\\modules\\module.py:1527\u001b[0m, in \u001b[0;36mModule._call_impl\u001b[1;34m(self, *args, **kwargs)\u001b[0m\n\u001b[0;32m   1522\u001b[0m \u001b[39m# If we don't have any hooks, we want to skip the rest of the logic in\u001b[39;00m\n\u001b[0;32m   1523\u001b[0m \u001b[39m# this function, and just call forward.\u001b[39;00m\n\u001b[0;32m   1524\u001b[0m \u001b[39mif\u001b[39;00m \u001b[39mnot\u001b[39;00m (\u001b[39mself\u001b[39m\u001b[39m.\u001b[39m_backward_hooks \u001b[39mor\u001b[39;00m \u001b[39mself\u001b[39m\u001b[39m.\u001b[39m_backward_pre_hooks \u001b[39mor\u001b[39;00m \u001b[39mself\u001b[39m\u001b[39m.\u001b[39m_forward_hooks \u001b[39mor\u001b[39;00m \u001b[39mself\u001b[39m\u001b[39m.\u001b[39m_forward_pre_hooks\n\u001b[0;32m   1525\u001b[0m         \u001b[39mor\u001b[39;00m _global_backward_pre_hooks \u001b[39mor\u001b[39;00m _global_backward_hooks\n\u001b[0;32m   1526\u001b[0m         \u001b[39mor\u001b[39;00m _global_forward_hooks \u001b[39mor\u001b[39;00m _global_forward_pre_hooks):\n\u001b[1;32m-> 1527\u001b[0m     \u001b[39mreturn\u001b[39;00m forward_call(\u001b[39m*\u001b[39margs, \u001b[39m*\u001b[39m\u001b[39m*\u001b[39mkwargs)\n\u001b[0;32m   1529\u001b[0m \u001b[39mtry\u001b[39;00m:\n\u001b[0;32m   1530\u001b[0m     result \u001b[39m=\u001b[39m \u001b[39mNone\u001b[39;00m\n",
      "File \u001b[1;32mc:\\Users\\11429\\Desktop\\Conditional-Chest-X-ray-Generative-Diffusion-Model-label\\FGFormer\\FGFormer.py:137\u001b[0m, in \u001b[0;36mFGFormer_block.forward\u001b[1;34m(self, x, structure_info, c)\u001b[0m\n\u001b[0;32m    134\u001b[0m x \u001b[39m=\u001b[39m \u001b[39mself\u001b[39m\u001b[39m.\u001b[39mattn(x, structure_info)\n\u001b[0;32m    136\u001b[0m x \u001b[39m=\u001b[39m initial \u001b[39m+\u001b[39m gate_msa\u001b[39m.\u001b[39munsqueeze(\u001b[39m1\u001b[39m) \u001b[39m*\u001b[39m x\n\u001b[1;32m--> 137\u001b[0m x \u001b[39m=\u001b[39m x \u001b[39m+\u001b[39m gate_res\u001b[39m.\u001b[39munsqueeze(\u001b[39m1\u001b[39m) \u001b[39m*\u001b[39m \u001b[39mself\u001b[39;49m\u001b[39m.\u001b[39;49mmlp1(modulate(\u001b[39mself\u001b[39;49m\u001b[39m.\u001b[39;49mnorm2(x), shift_res, scale_res))\n\u001b[0;32m    139\u001b[0m \u001b[39mreturn\u001b[39;00m x, structure_info\n",
      "File \u001b[1;32mc:\\Users\\11429\\anaconda3\\envs\\transformers\\lib\\site-packages\\torch\\nn\\modules\\module.py:1518\u001b[0m, in \u001b[0;36mModule._wrapped_call_impl\u001b[1;34m(self, *args, **kwargs)\u001b[0m\n\u001b[0;32m   1516\u001b[0m     \u001b[39mreturn\u001b[39;00m \u001b[39mself\u001b[39m\u001b[39m.\u001b[39m_compiled_call_impl(\u001b[39m*\u001b[39margs, \u001b[39m*\u001b[39m\u001b[39m*\u001b[39mkwargs)  \u001b[39m# type: ignore[misc]\u001b[39;00m\n\u001b[0;32m   1517\u001b[0m \u001b[39melse\u001b[39;00m:\n\u001b[1;32m-> 1518\u001b[0m     \u001b[39mreturn\u001b[39;00m \u001b[39mself\u001b[39m\u001b[39m.\u001b[39m_call_impl(\u001b[39m*\u001b[39margs, \u001b[39m*\u001b[39m\u001b[39m*\u001b[39mkwargs)\n",
      "File \u001b[1;32mc:\\Users\\11429\\anaconda3\\envs\\transformers\\lib\\site-packages\\torch\\nn\\modules\\module.py:1527\u001b[0m, in \u001b[0;36mModule._call_impl\u001b[1;34m(self, *args, **kwargs)\u001b[0m\n\u001b[0;32m   1522\u001b[0m \u001b[39m# If we don't have any hooks, we want to skip the rest of the logic in\u001b[39;00m\n\u001b[0;32m   1523\u001b[0m \u001b[39m# this function, and just call forward.\u001b[39;00m\n\u001b[0;32m   1524\u001b[0m \u001b[39mif\u001b[39;00m \u001b[39mnot\u001b[39;00m (\u001b[39mself\u001b[39m\u001b[39m.\u001b[39m_backward_hooks \u001b[39mor\u001b[39;00m \u001b[39mself\u001b[39m\u001b[39m.\u001b[39m_backward_pre_hooks \u001b[39mor\u001b[39;00m \u001b[39mself\u001b[39m\u001b[39m.\u001b[39m_forward_hooks \u001b[39mor\u001b[39;00m \u001b[39mself\u001b[39m\u001b[39m.\u001b[39m_forward_pre_hooks\n\u001b[0;32m   1525\u001b[0m         \u001b[39mor\u001b[39;00m _global_backward_pre_hooks \u001b[39mor\u001b[39;00m _global_backward_hooks\n\u001b[0;32m   1526\u001b[0m         \u001b[39mor\u001b[39;00m _global_forward_hooks \u001b[39mor\u001b[39;00m _global_forward_pre_hooks):\n\u001b[1;32m-> 1527\u001b[0m     \u001b[39mreturn\u001b[39;00m forward_call(\u001b[39m*\u001b[39margs, \u001b[39m*\u001b[39m\u001b[39m*\u001b[39mkwargs)\n\u001b[0;32m   1529\u001b[0m \u001b[39mtry\u001b[39;00m:\n\u001b[0;32m   1530\u001b[0m     result \u001b[39m=\u001b[39m \u001b[39mNone\u001b[39;00m\n",
      "File \u001b[1;32mc:\\Users\\11429\\anaconda3\\envs\\transformers\\lib\\site-packages\\timm\\layers\\mlp.py:42\u001b[0m, in \u001b[0;36mMlp.forward\u001b[1;34m(self, x)\u001b[0m\n\u001b[0;32m     41\u001b[0m \u001b[39mdef\u001b[39;00m \u001b[39mforward\u001b[39m(\u001b[39mself\u001b[39m, x):\n\u001b[1;32m---> 42\u001b[0m     x \u001b[39m=\u001b[39m \u001b[39mself\u001b[39;49m\u001b[39m.\u001b[39;49mfc1(x)\n\u001b[0;32m     43\u001b[0m     x \u001b[39m=\u001b[39m \u001b[39mself\u001b[39m\u001b[39m.\u001b[39mact(x)\n\u001b[0;32m     44\u001b[0m     x \u001b[39m=\u001b[39m \u001b[39mself\u001b[39m\u001b[39m.\u001b[39mdrop1(x)\n",
      "File \u001b[1;32mc:\\Users\\11429\\anaconda3\\envs\\transformers\\lib\\site-packages\\torch\\nn\\modules\\module.py:1518\u001b[0m, in \u001b[0;36mModule._wrapped_call_impl\u001b[1;34m(self, *args, **kwargs)\u001b[0m\n\u001b[0;32m   1516\u001b[0m     \u001b[39mreturn\u001b[39;00m \u001b[39mself\u001b[39m\u001b[39m.\u001b[39m_compiled_call_impl(\u001b[39m*\u001b[39margs, \u001b[39m*\u001b[39m\u001b[39m*\u001b[39mkwargs)  \u001b[39m# type: ignore[misc]\u001b[39;00m\n\u001b[0;32m   1517\u001b[0m \u001b[39melse\u001b[39;00m:\n\u001b[1;32m-> 1518\u001b[0m     \u001b[39mreturn\u001b[39;00m \u001b[39mself\u001b[39m\u001b[39m.\u001b[39m_call_impl(\u001b[39m*\u001b[39margs, \u001b[39m*\u001b[39m\u001b[39m*\u001b[39mkwargs)\n",
      "File \u001b[1;32mc:\\Users\\11429\\anaconda3\\envs\\transformers\\lib\\site-packages\\torch\\nn\\modules\\module.py:1527\u001b[0m, in \u001b[0;36mModule._call_impl\u001b[1;34m(self, *args, **kwargs)\u001b[0m\n\u001b[0;32m   1522\u001b[0m \u001b[39m# If we don't have any hooks, we want to skip the rest of the logic in\u001b[39;00m\n\u001b[0;32m   1523\u001b[0m \u001b[39m# this function, and just call forward.\u001b[39;00m\n\u001b[0;32m   1524\u001b[0m \u001b[39mif\u001b[39;00m \u001b[39mnot\u001b[39;00m (\u001b[39mself\u001b[39m\u001b[39m.\u001b[39m_backward_hooks \u001b[39mor\u001b[39;00m \u001b[39mself\u001b[39m\u001b[39m.\u001b[39m_backward_pre_hooks \u001b[39mor\u001b[39;00m \u001b[39mself\u001b[39m\u001b[39m.\u001b[39m_forward_hooks \u001b[39mor\u001b[39;00m \u001b[39mself\u001b[39m\u001b[39m.\u001b[39m_forward_pre_hooks\n\u001b[0;32m   1525\u001b[0m         \u001b[39mor\u001b[39;00m _global_backward_pre_hooks \u001b[39mor\u001b[39;00m _global_backward_hooks\n\u001b[0;32m   1526\u001b[0m         \u001b[39mor\u001b[39;00m _global_forward_hooks \u001b[39mor\u001b[39;00m _global_forward_pre_hooks):\n\u001b[1;32m-> 1527\u001b[0m     \u001b[39mreturn\u001b[39;00m forward_call(\u001b[39m*\u001b[39margs, \u001b[39m*\u001b[39m\u001b[39m*\u001b[39mkwargs)\n\u001b[0;32m   1529\u001b[0m \u001b[39mtry\u001b[39;00m:\n\u001b[0;32m   1530\u001b[0m     result \u001b[39m=\u001b[39m \u001b[39mNone\u001b[39;00m\n",
      "File \u001b[1;32mc:\\Users\\11429\\anaconda3\\envs\\transformers\\lib\\site-packages\\torch\\nn\\modules\\linear.py:114\u001b[0m, in \u001b[0;36mLinear.forward\u001b[1;34m(self, input)\u001b[0m\n\u001b[0;32m    113\u001b[0m \u001b[39mdef\u001b[39;00m \u001b[39mforward\u001b[39m(\u001b[39mself\u001b[39m, \u001b[39minput\u001b[39m: Tensor) \u001b[39m-\u001b[39m\u001b[39m>\u001b[39m Tensor:\n\u001b[1;32m--> 114\u001b[0m     \u001b[39mreturn\u001b[39;00m F\u001b[39m.\u001b[39;49mlinear(\u001b[39minput\u001b[39;49m, \u001b[39mself\u001b[39;49m\u001b[39m.\u001b[39;49mweight, \u001b[39mself\u001b[39;49m\u001b[39m.\u001b[39;49mbias)\n",
      "\u001b[1;31mKeyboardInterrupt\u001b[0m: "
     ]
    }
   ],
   "source": [
    "samples = diffusion.p_sample_loop(\n",
    "        model.forward_with_cfg, z.shape, z, clip_denoised=False, model_kwargs=model_kwargs, progress=True, device=device\n",
    "    )\n",
    "samples, _ = samples.chunk(2, dim=0)\n",
    "samples = vae.decode(samples / 0.18215).sample"
   ]
  },
  {
   "cell_type": "code",
   "execution_count": null,
   "metadata": {
    "id": "cGU4RM-Goj23"
   },
   "outputs": [],
   "source": [
    "samples"
   ]
  }
 ],
 "metadata": {
  "colab": {
   "authorship_tag": "ABX9TyNGkr7eR/XS77WDW7Y11T+z",
   "mount_file_id": "1cexoHJbZ-Xvmb7j3a28e5C5_SuTF8FyW",
   "provenance": []
  },
  "kernelspec": {
   "display_name": "Python 3 (ipykernel)",
   "language": "python",
   "name": "python3"
  },
  "language_info": {
   "codemirror_mode": {
    "name": "ipython",
    "version": 3
   },
   "file_extension": ".py",
   "mimetype": "text/x-python",
   "name": "python",
   "nbconvert_exporter": "python",
   "pygments_lexer": "ipython3",
   "version": "3.10.13"
  }
 },
 "nbformat": 4,
 "nbformat_minor": 1
}
